{
 "cells": [
  {
   "cell_type": "code",
   "execution_count": 8,
   "id": "7e0cf7aa",
   "metadata": {},
   "outputs": [],
   "source": [
    "import csv\n",
    "import tkinter as tk\n",
    "from tkinter import ttk\n",
    "from tkinter import simpledialog\n",
    "import time\n",
    "from tkinter.filedialog import askopenfilename"
   ]
  },
  {
   "cell_type": "code",
   "execution_count": 39,
   "id": "cb3d925b",
   "metadata": {},
   "outputs": [
    {
     "ename": "KeyboardInterrupt",
     "evalue": "",
     "output_type": "error",
     "traceback": [
      "\u001b[0;31m---------------------------------------------------------------------------\u001b[0m",
      "\u001b[0;31mKeyboardInterrupt\u001b[0m                         Traceback (most recent call last)",
      "\u001b[0;32m/var/folders/n3/12hdjjbj011944mqs40_6ypr0000gn/T/ipykernel_36536/1437576180.py\u001b[0m in \u001b[0;36m<module>\u001b[0;34m\u001b[0m\n\u001b[1;32m     72\u001b[0m     \u001b[0mroot\u001b[0m\u001b[0;34m.\u001b[0m\u001b[0mmainloop\u001b[0m\u001b[0;34m(\u001b[0m\u001b[0;34m)\u001b[0m\u001b[0;34m\u001b[0m\u001b[0;34m\u001b[0m\u001b[0m\n\u001b[1;32m     73\u001b[0m \u001b[0;34m\u001b[0m\u001b[0m\n\u001b[0;32m---> 74\u001b[0;31m \u001b[0mdisplaying_final\u001b[0m\u001b[0;34m(\u001b[0m\u001b[0;34m)\u001b[0m\u001b[0;34m\u001b[0m\u001b[0;34m\u001b[0m\u001b[0m\n\u001b[0m",
      "\u001b[0;32m/var/folders/n3/12hdjjbj011944mqs40_6ypr0000gn/T/ipykernel_36536/1437576180.py\u001b[0m in \u001b[0;36mdisplaying_final\u001b[0;34m()\u001b[0m\n\u001b[1;32m     70\u001b[0m     \u001b[0;31m# Insert The Fact.\u001b[0m\u001b[0;34m\u001b[0m\u001b[0;34m\u001b[0m\u001b[0;34m\u001b[0m\u001b[0m\n\u001b[1;32m     71\u001b[0m     \u001b[0mT\u001b[0m\u001b[0;34m.\u001b[0m\u001b[0minsert\u001b[0m\u001b[0;34m(\u001b[0m\u001b[0mtk\u001b[0m\u001b[0;34m.\u001b[0m\u001b[0mEND\u001b[0m\u001b[0;34m,\u001b[0m \u001b[0mFact\u001b[0m\u001b[0;34m)\u001b[0m\u001b[0;34m\u001b[0m\u001b[0;34m\u001b[0m\u001b[0m\n\u001b[0;32m---> 72\u001b[0;31m     \u001b[0mroot\u001b[0m\u001b[0;34m.\u001b[0m\u001b[0mmainloop\u001b[0m\u001b[0;34m(\u001b[0m\u001b[0;34m)\u001b[0m\u001b[0;34m\u001b[0m\u001b[0;34m\u001b[0m\u001b[0m\n\u001b[0m\u001b[1;32m     73\u001b[0m \u001b[0;34m\u001b[0m\u001b[0m\n\u001b[1;32m     74\u001b[0m \u001b[0mdisplaying_final\u001b[0m\u001b[0;34m(\u001b[0m\u001b[0;34m)\u001b[0m\u001b[0;34m\u001b[0m\u001b[0;34m\u001b[0m\u001b[0m\n",
      "\u001b[0;32m/opt/homebrew/anaconda3/lib/python3.8/tkinter/__init__.py\u001b[0m in \u001b[0;36mmainloop\u001b[0;34m(self, n)\u001b[0m\n\u001b[1;32m   1427\u001b[0m     \u001b[0;32mdef\u001b[0m \u001b[0mmainloop\u001b[0m\u001b[0;34m(\u001b[0m\u001b[0mself\u001b[0m\u001b[0;34m,\u001b[0m \u001b[0mn\u001b[0m\u001b[0;34m=\u001b[0m\u001b[0;36m0\u001b[0m\u001b[0;34m)\u001b[0m\u001b[0;34m:\u001b[0m\u001b[0;34m\u001b[0m\u001b[0;34m\u001b[0m\u001b[0m\n\u001b[1;32m   1428\u001b[0m         \u001b[0;34m\"\"\"Call the mainloop of Tk.\"\"\"\u001b[0m\u001b[0;34m\u001b[0m\u001b[0;34m\u001b[0m\u001b[0m\n\u001b[0;32m-> 1429\u001b[0;31m         \u001b[0mself\u001b[0m\u001b[0;34m.\u001b[0m\u001b[0mtk\u001b[0m\u001b[0;34m.\u001b[0m\u001b[0mmainloop\u001b[0m\u001b[0;34m(\u001b[0m\u001b[0mn\u001b[0m\u001b[0;34m)\u001b[0m\u001b[0;34m\u001b[0m\u001b[0;34m\u001b[0m\u001b[0m\n\u001b[0m\u001b[1;32m   1430\u001b[0m \u001b[0;34m\u001b[0m\u001b[0m\n\u001b[1;32m   1431\u001b[0m     \u001b[0;32mdef\u001b[0m \u001b[0mquit\u001b[0m\u001b[0;34m(\u001b[0m\u001b[0mself\u001b[0m\u001b[0;34m)\u001b[0m\u001b[0;34m:\u001b[0m\u001b[0;34m\u001b[0m\u001b[0;34m\u001b[0m\u001b[0m\n",
      "\u001b[0;31mKeyboardInterrupt\u001b[0m: "
     ]
    }
   ],
   "source": [
    "# Ready stage\n",
    "\n",
    "def ready_stage():\n",
    "    ROOT = tk.Tk()\n",
    "    ROOT.geometry ('300x200')\n",
    "    ROOT.title ('Demo')\n",
    "\n",
    "    button = ttk.Button(\n",
    "    ROOT,\n",
    "    text = \"Press when ready\",\n",
    "    command = lambda: root.quit()\n",
    "    )\n",
    "\n",
    "    button.pack(\n",
    "    ipadx=5,\n",
    "    ipady=5,\n",
    "    expand=True)\n",
    "    \n",
    "    ROOT.mainloop()\n",
    "    \n",
    "ready_stage()    \n",
    "\n",
    "\n",
    "# Enter number of items\n",
    "\n",
    "def input(prompt1):\n",
    "    ROOT = tk.Tk()\n",
    "    ROOT.withdraw()\n",
    "    # the input dialog\n",
    "    USER_INP = simpledialog.askstring(title=\"New Entry\", prompt=prompt1)\n",
    "    return USER_INP\n",
    "\n",
    "items = input (\"Enter the number of items [REFERENCE]\")\n",
    "\n",
    "# Reference of item\n",
    "w_per_item = int (items)/40\n",
    "\n",
    "\n",
    "# Information about weight\n",
    "def weight_info():\n",
    "    ROOT = tk.Tk()\n",
    "    ROOT.geometry ('300x200')\n",
    "    ROOT.title ('Demo')\n",
    "\n",
    "    button = ttk.Button(\n",
    "    ROOT,\n",
    "    text = \"Place all items in\",\n",
    "    command = lambda: root.quit()\n",
    "    )\n",
    "\n",
    "    button.pack(\n",
    "    ipadx=5,\n",
    "    ipady=5,\n",
    "    expand=True)\n",
    "    \n",
    "    ROOT.mainloop()\n",
    "    \n",
    "weight_info()    \n",
    "\n",
    "# Information of the weight\n",
    "def displaying_final():\n",
    "    root = tk.Tk()\n",
    "    # specify size of window.\n",
    "    root.geometry(\"250x170\")\n",
    "    # Create text widget and specify size.\n",
    "    T = tk.Text(root, height = 5, width = 52)\n",
    "    Fact = (\"Number of items %f \\n Weight: %f grams\" % (200/w_per_item, 200))\n",
    "    T.pack()\n",
    "\n",
    "    # Insert The Fact.\n",
    "    T.insert(tk.END, Fact)\n",
    "    root.mainloop()\n",
    "    \n",
    "displaying_final()    \n"
   ]
  },
  {
   "cell_type": "code",
   "execution_count": null,
   "id": "67ebe863",
   "metadata": {},
   "outputs": [],
   "source": []
  }
 ],
 "metadata": {
  "kernelspec": {
   "display_name": "Python 3 (ipykernel)",
   "language": "python",
   "name": "python3"
  },
  "language_info": {
   "codemirror_mode": {
    "name": "ipython",
    "version": 3
   },
   "file_extension": ".py",
   "mimetype": "text/x-python",
   "name": "python",
   "nbconvert_exporter": "python",
   "pygments_lexer": "ipython3",
   "version": "3.8.10"
  }
 },
 "nbformat": 4,
 "nbformat_minor": 5
}
